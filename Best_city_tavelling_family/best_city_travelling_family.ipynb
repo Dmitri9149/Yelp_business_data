{
 "cells": [
  {
   "cell_type": "markdown",
   "metadata": {},
   "source": [
    "We are working at _**\"Board out of your mind\"**_, the travellers' magazine from a large flight carrier. They need an article about the top ten cities for dining in North America. We will use a well maintained _yelp_ dataset.\n",
    "\n",
    "1. Gather the information from this [link](https://www.yelp.com/dataset) and create a dataframe;\n",
    "2. Explore the data and learn more about the dataset;\n",
    "3. Clean the dataset so it only has relevant data;\n",
    "4. Which cities provide the most restaurants;\n",
    "5. Which cities have the best restaurants;\n",
    "6. What are the restaurant categories available;\n",
    "7. Create \"persona\" that you believe would relate to the audience of the magazine;\n",
    "8. Pick a best suitable city;\n",
    "9. Provide some extra information regarding the city;\n",
    "\n",
    "Data are here : https://drive.google.com/file/d/11v6WVP3729ZK33CNyVQVYuqxlpvrqImg/view?usp=sharing\n"
   ]
  },
  {
   "cell_type": "code",
   "execution_count": 47,
   "metadata": {
    "jupyter": {
     "outputs_hidden": true
    }
   },
   "outputs": [],
   "source": [
    "# Import packages\n",
    "#import numpy\n",
    "import pandas as pd\n",
    "#import matplotlib.pyplot as plt\n",
    "#import seaborn as sns\n",
    "#import statsmodels\n",
    "#import sklearn "
   ]
  },
  {
   "cell_type": "code",
   "execution_count": 48,
   "metadata": {
    "jupyter": {
     "outputs_hidden": true
    }
   },
   "outputs": [],
   "source": [
    "business_df = pd.read_csv(\"business.csv\")"
   ]
  },
  {
   "cell_type": "code",
   "execution_count": 49,
   "metadata": {
    "jupyter": {
     "outputs_hidden": true
    }
   },
   "outputs": [
    {
     "data": {
      "text/plain": [
       "(192609, 15)"
      ]
     },
     "execution_count": 49,
     "metadata": {},
     "output_type": "execute_result"
    }
   ],
   "source": [
    "business_df.shape"
   ]
  },
  {
   "cell_type": "code",
   "execution_count": 50,
   "metadata": {
    "jupyter": {
     "outputs_hidden": true
    }
   },
   "outputs": [
    {
     "data": {
      "text/html": [
       "<div>\n",
       "<style scoped>\n",
       "    .dataframe tbody tr th:only-of-type {\n",
       "        vertical-align: middle;\n",
       "    }\n",
       "\n",
       "    .dataframe tbody tr th {\n",
       "        vertical-align: top;\n",
       "    }\n",
       "\n",
       "    .dataframe thead th {\n",
       "        text-align: right;\n",
       "    }\n",
       "</style>\n",
       "<table border=\"1\" class=\"dataframe\">\n",
       "  <thead>\n",
       "    <tr style=\"text-align: right;\">\n",
       "      <th></th>\n",
       "      <th>Unnamed: 0</th>\n",
       "      <th>address</th>\n",
       "      <th>attributes</th>\n",
       "      <th>business_id</th>\n",
       "      <th>categories</th>\n",
       "      <th>city</th>\n",
       "      <th>hours</th>\n",
       "      <th>is_open</th>\n",
       "      <th>latitude</th>\n",
       "      <th>longitude</th>\n",
       "      <th>name</th>\n",
       "      <th>postal_code</th>\n",
       "      <th>review_count</th>\n",
       "      <th>stars</th>\n",
       "      <th>state</th>\n",
       "    </tr>\n",
       "  </thead>\n",
       "  <tbody>\n",
       "    <tr>\n",
       "      <td>0</td>\n",
       "      <td>0</td>\n",
       "      <td>2818 E Camino Acequia Drive</td>\n",
       "      <td>{'GoodForKids': 'False'}</td>\n",
       "      <td>1SWheh84yJXfytovILXOAQ</td>\n",
       "      <td>Golf, Active Life</td>\n",
       "      <td>Phoenix</td>\n",
       "      <td>NaN</td>\n",
       "      <td>0</td>\n",
       "      <td>33.522143</td>\n",
       "      <td>-112.018481</td>\n",
       "      <td>Arizona Biltmore Golf Club</td>\n",
       "      <td>85016</td>\n",
       "      <td>5</td>\n",
       "      <td>3.0</td>\n",
       "      <td>AZ</td>\n",
       "    </tr>\n",
       "    <tr>\n",
       "      <td>1</td>\n",
       "      <td>1</td>\n",
       "      <td>30 Eglinton Avenue W</td>\n",
       "      <td>{'RestaurantsReservations': 'True', 'GoodForMe...</td>\n",
       "      <td>QXAEGFB4oINsVuTFxEYKFQ</td>\n",
       "      <td>Specialty Food, Restaurants, Dim Sum, Imported...</td>\n",
       "      <td>Mississauga</td>\n",
       "      <td>{'Monday': '9:0-0:0', 'Tuesday': '9:0-0:0', 'W...</td>\n",
       "      <td>1</td>\n",
       "      <td>43.605499</td>\n",
       "      <td>-79.652289</td>\n",
       "      <td>Emerald Chinese Restaurant</td>\n",
       "      <td>L5R 3E7</td>\n",
       "      <td>128</td>\n",
       "      <td>2.5</td>\n",
       "      <td>ON</td>\n",
       "    </tr>\n",
       "    <tr>\n",
       "      <td>2</td>\n",
       "      <td>2</td>\n",
       "      <td>10110 Johnston Rd, Ste 15</td>\n",
       "      <td>{'GoodForKids': 'True', 'NoiseLevel': \"u'avera...</td>\n",
       "      <td>gnKjwL_1w79qoiV3IC_xQQ</td>\n",
       "      <td>Sushi Bars, Restaurants, Japanese</td>\n",
       "      <td>Charlotte</td>\n",
       "      <td>{'Monday': '17:30-21:30', 'Wednesday': '17:30-...</td>\n",
       "      <td>1</td>\n",
       "      <td>35.092564</td>\n",
       "      <td>-80.859132</td>\n",
       "      <td>Musashi Japanese Restaurant</td>\n",
       "      <td>28210</td>\n",
       "      <td>170</td>\n",
       "      <td>4.0</td>\n",
       "      <td>NC</td>\n",
       "    </tr>\n",
       "    <tr>\n",
       "      <td>3</td>\n",
       "      <td>3</td>\n",
       "      <td>15655 W Roosevelt St, Ste 237</td>\n",
       "      <td>NaN</td>\n",
       "      <td>xvX2CttrVhyG2z1dFg_0xw</td>\n",
       "      <td>Insurance, Financial Services</td>\n",
       "      <td>Goodyear</td>\n",
       "      <td>{'Monday': '8:0-17:0', 'Tuesday': '8:0-17:0', ...</td>\n",
       "      <td>1</td>\n",
       "      <td>33.455613</td>\n",
       "      <td>-112.395596</td>\n",
       "      <td>Farmers Insurance - Paul Lorenz</td>\n",
       "      <td>85338</td>\n",
       "      <td>3</td>\n",
       "      <td>5.0</td>\n",
       "      <td>AZ</td>\n",
       "    </tr>\n",
       "    <tr>\n",
       "      <td>4</td>\n",
       "      <td>4</td>\n",
       "      <td>4209 Stuart Andrew Blvd, Ste F</td>\n",
       "      <td>{'BusinessAcceptsBitcoin': 'False', 'ByAppoint...</td>\n",
       "      <td>HhyxOkGAM07SRYtlQ4wMFQ</td>\n",
       "      <td>Plumbing, Shopping, Local Services, Home Servi...</td>\n",
       "      <td>Charlotte</td>\n",
       "      <td>{'Monday': '7:0-23:0', 'Tuesday': '7:0-23:0', ...</td>\n",
       "      <td>1</td>\n",
       "      <td>35.190012</td>\n",
       "      <td>-80.887223</td>\n",
       "      <td>Queen City Plumbing</td>\n",
       "      <td>28217</td>\n",
       "      <td>4</td>\n",
       "      <td>4.0</td>\n",
       "      <td>NC</td>\n",
       "    </tr>\n",
       "  </tbody>\n",
       "</table>\n",
       "</div>"
      ],
      "text/plain": [
       "   Unnamed: 0                         address  \\\n",
       "0           0     2818 E Camino Acequia Drive   \n",
       "1           1            30 Eglinton Avenue W   \n",
       "2           2       10110 Johnston Rd, Ste 15   \n",
       "3           3   15655 W Roosevelt St, Ste 237   \n",
       "4           4  4209 Stuart Andrew Blvd, Ste F   \n",
       "\n",
       "                                          attributes             business_id  \\\n",
       "0                           {'GoodForKids': 'False'}  1SWheh84yJXfytovILXOAQ   \n",
       "1  {'RestaurantsReservations': 'True', 'GoodForMe...  QXAEGFB4oINsVuTFxEYKFQ   \n",
       "2  {'GoodForKids': 'True', 'NoiseLevel': \"u'avera...  gnKjwL_1w79qoiV3IC_xQQ   \n",
       "3                                                NaN  xvX2CttrVhyG2z1dFg_0xw   \n",
       "4  {'BusinessAcceptsBitcoin': 'False', 'ByAppoint...  HhyxOkGAM07SRYtlQ4wMFQ   \n",
       "\n",
       "                                          categories         city  \\\n",
       "0                                  Golf, Active Life      Phoenix   \n",
       "1  Specialty Food, Restaurants, Dim Sum, Imported...  Mississauga   \n",
       "2                  Sushi Bars, Restaurants, Japanese    Charlotte   \n",
       "3                      Insurance, Financial Services     Goodyear   \n",
       "4  Plumbing, Shopping, Local Services, Home Servi...    Charlotte   \n",
       "\n",
       "                                               hours  is_open   latitude  \\\n",
       "0                                                NaN        0  33.522143   \n",
       "1  {'Monday': '9:0-0:0', 'Tuesday': '9:0-0:0', 'W...        1  43.605499   \n",
       "2  {'Monday': '17:30-21:30', 'Wednesday': '17:30-...        1  35.092564   \n",
       "3  {'Monday': '8:0-17:0', 'Tuesday': '8:0-17:0', ...        1  33.455613   \n",
       "4  {'Monday': '7:0-23:0', 'Tuesday': '7:0-23:0', ...        1  35.190012   \n",
       "\n",
       "    longitude                             name postal_code  review_count  \\\n",
       "0 -112.018481       Arizona Biltmore Golf Club       85016             5   \n",
       "1  -79.652289       Emerald Chinese Restaurant     L5R 3E7           128   \n",
       "2  -80.859132      Musashi Japanese Restaurant       28210           170   \n",
       "3 -112.395596  Farmers Insurance - Paul Lorenz       85338             3   \n",
       "4  -80.887223              Queen City Plumbing       28217             4   \n",
       "\n",
       "   stars state  \n",
       "0    3.0    AZ  \n",
       "1    2.5    ON  \n",
       "2    4.0    NC  \n",
       "3    5.0    AZ  \n",
       "4    4.0    NC  "
      ]
     },
     "execution_count": 50,
     "metadata": {},
     "output_type": "execute_result"
    }
   ],
   "source": [
    "business_df.head()"
   ]
  },
  {
   "cell_type": "code",
   "execution_count": 51,
   "metadata": {
    "jupyter": {
     "outputs_hidden": true
    }
   },
   "outputs": [
    {
     "name": "stdout",
     "output_type": "stream",
     "text": [
      "<class 'pandas.core.frame.DataFrame'>\n",
      "RangeIndex: 192609 entries, 0 to 192608\n",
      "Data columns (total 15 columns):\n",
      "Unnamed: 0      192609 non-null int64\n",
      "address         184927 non-null object\n",
      "attributes      163773 non-null object\n",
      "business_id     192609 non-null object\n",
      "categories      192127 non-null object\n",
      "city            192608 non-null object\n",
      "hours           147779 non-null object\n",
      "is_open         192609 non-null int64\n",
      "latitude        192609 non-null float64\n",
      "longitude       192609 non-null float64\n",
      "name            192609 non-null object\n",
      "postal_code     191950 non-null object\n",
      "review_count    192609 non-null int64\n",
      "stars           192609 non-null float64\n",
      "state           192609 non-null object\n",
      "dtypes: float64(3), int64(3), object(9)\n",
      "memory usage: 22.0+ MB\n"
     ]
    }
   ],
   "source": [
    "business_df.info(verbose=True, null_counts=True)"
   ]
  },
  {
   "cell_type": "code",
   "execution_count": 52,
   "metadata": {
    "jupyter": {
     "outputs_hidden": true
    }
   },
   "outputs": [
    {
     "data": {
      "text/html": [
       "<div>\n",
       "<style scoped>\n",
       "    .dataframe tbody tr th:only-of-type {\n",
       "        vertical-align: middle;\n",
       "    }\n",
       "\n",
       "    .dataframe tbody tr th {\n",
       "        vertical-align: top;\n",
       "    }\n",
       "\n",
       "    .dataframe thead th {\n",
       "        text-align: right;\n",
       "    }\n",
       "</style>\n",
       "<table border=\"1\" class=\"dataframe\">\n",
       "  <thead>\n",
       "    <tr style=\"text-align: right;\">\n",
       "      <th></th>\n",
       "      <th>stars</th>\n",
       "      <th>review_count</th>\n",
       "    </tr>\n",
       "  </thead>\n",
       "  <tbody>\n",
       "    <tr>\n",
       "      <td>count</td>\n",
       "      <td>192609.000000</td>\n",
       "      <td>192609.000000</td>\n",
       "    </tr>\n",
       "    <tr>\n",
       "      <td>mean</td>\n",
       "      <td>3.585627</td>\n",
       "      <td>33.538962</td>\n",
       "    </tr>\n",
       "    <tr>\n",
       "      <td>std</td>\n",
       "      <td>1.018458</td>\n",
       "      <td>110.135224</td>\n",
       "    </tr>\n",
       "    <tr>\n",
       "      <td>min</td>\n",
       "      <td>1.000000</td>\n",
       "      <td>3.000000</td>\n",
       "    </tr>\n",
       "    <tr>\n",
       "      <td>25%</td>\n",
       "      <td>3.000000</td>\n",
       "      <td>4.000000</td>\n",
       "    </tr>\n",
       "    <tr>\n",
       "      <td>50%</td>\n",
       "      <td>3.500000</td>\n",
       "      <td>9.000000</td>\n",
       "    </tr>\n",
       "    <tr>\n",
       "      <td>75%</td>\n",
       "      <td>4.500000</td>\n",
       "      <td>25.000000</td>\n",
       "    </tr>\n",
       "    <tr>\n",
       "      <td>max</td>\n",
       "      <td>5.000000</td>\n",
       "      <td>8348.000000</td>\n",
       "    </tr>\n",
       "  </tbody>\n",
       "</table>\n",
       "</div>"
      ],
      "text/plain": [
       "               stars   review_count\n",
       "count  192609.000000  192609.000000\n",
       "mean        3.585627      33.538962\n",
       "std         1.018458     110.135224\n",
       "min         1.000000       3.000000\n",
       "25%         3.000000       4.000000\n",
       "50%         3.500000       9.000000\n",
       "75%         4.500000      25.000000\n",
       "max         5.000000    8348.000000"
      ]
     },
     "execution_count": 52,
     "metadata": {},
     "output_type": "execute_result"
    }
   ],
   "source": [
    "business_df[[\"stars\",\"review_count\"]].describe()"
   ]
  },
  {
   "cell_type": "code",
   "execution_count": 53,
   "metadata": {
    "jupyter": {
     "outputs_hidden": true
    }
   },
   "outputs": [
    {
     "data": {
      "text/html": [
       "<div>\n",
       "<style scoped>\n",
       "    .dataframe tbody tr th:only-of-type {\n",
       "        vertical-align: middle;\n",
       "    }\n",
       "\n",
       "    .dataframe tbody tr th {\n",
       "        vertical-align: top;\n",
       "    }\n",
       "\n",
       "    .dataframe thead th {\n",
       "        text-align: right;\n",
       "    }\n",
       "</style>\n",
       "<table border=\"1\" class=\"dataframe\">\n",
       "  <thead>\n",
       "    <tr style=\"text-align: right;\">\n",
       "      <th></th>\n",
       "      <th>business_id</th>\n",
       "      <th>name</th>\n",
       "    </tr>\n",
       "  </thead>\n",
       "  <tbody>\n",
       "    <tr>\n",
       "      <td>0</td>\n",
       "      <td>1SWheh84yJXfytovILXOAQ</td>\n",
       "      <td>Arizona Biltmore Golf Club</td>\n",
       "    </tr>\n",
       "    <tr>\n",
       "      <td>1</td>\n",
       "      <td>QXAEGFB4oINsVuTFxEYKFQ</td>\n",
       "      <td>Emerald Chinese Restaurant</td>\n",
       "    </tr>\n",
       "    <tr>\n",
       "      <td>2</td>\n",
       "      <td>gnKjwL_1w79qoiV3IC_xQQ</td>\n",
       "      <td>Musashi Japanese Restaurant</td>\n",
       "    </tr>\n",
       "    <tr>\n",
       "      <td>3</td>\n",
       "      <td>xvX2CttrVhyG2z1dFg_0xw</td>\n",
       "      <td>Farmers Insurance - Paul Lorenz</td>\n",
       "    </tr>\n",
       "    <tr>\n",
       "      <td>4</td>\n",
       "      <td>HhyxOkGAM07SRYtlQ4wMFQ</td>\n",
       "      <td>Queen City Plumbing</td>\n",
       "    </tr>\n",
       "  </tbody>\n",
       "</table>\n",
       "</div>"
      ],
      "text/plain": [
       "              business_id                             name\n",
       "0  1SWheh84yJXfytovILXOAQ       Arizona Biltmore Golf Club\n",
       "1  QXAEGFB4oINsVuTFxEYKFQ       Emerald Chinese Restaurant\n",
       "2  gnKjwL_1w79qoiV3IC_xQQ      Musashi Japanese Restaurant\n",
       "3  xvX2CttrVhyG2z1dFg_0xw  Farmers Insurance - Paul Lorenz\n",
       "4  HhyxOkGAM07SRYtlQ4wMFQ              Queen City Plumbing"
      ]
     },
     "execution_count": 53,
     "metadata": {},
     "output_type": "execute_result"
    }
   ],
   "source": [
    "# Select multiple columns (returns a DataFrame)\n",
    "business_df[['business_id', 'name']].head()"
   ]
  },
  {
   "cell_type": "code",
   "execution_count": 54,
   "metadata": {
    "jupyter": {
     "outputs_hidden": true
    }
   },
   "outputs": [],
   "source": [
    "# Delete unwanted columns\n",
    "business_df.drop([\"Unnamed: 0\"], axis=1, inplace=True)\n",
    "# Change NaN values in columns\n",
    "#business_df['attributes'].fillna('{}', inplace=True)"
   ]
  },
  {
   "cell_type": "code",
   "execution_count": 55,
   "metadata": {
    "jupyter": {
     "outputs_hidden": true
    }
   },
   "outputs": [],
   "source": [
    "# Cleaning NaN rows\n",
    "business_df = business_df.dropna(subset=[\"categories\"])"
   ]
  },
  {
   "cell_type": "code",
   "execution_count": 56,
   "metadata": {
    "jupyter": {
     "outputs_hidden": true
    }
   },
   "outputs": [],
   "source": [
    "restaurant_df = business_df[business_df['categories'].str.contains(\"Restaurants\")]"
   ]
  },
  {
   "cell_type": "code",
   "execution_count": 57,
   "metadata": {
    "jupyter": {
     "outputs_hidden": true
    }
   },
   "outputs": [
    {
     "name": "stdout",
     "output_type": "stream",
     "text": [
      "<class 'pandas.core.frame.DataFrame'>\n",
      "Int64Index: 59371 entries, 1 to 192603\n",
      "Data columns (total 14 columns):\n",
      "address         58955 non-null object\n",
      "attributes      57161 non-null object\n",
      "business_id     59371 non-null object\n",
      "categories      59371 non-null object\n",
      "city            59371 non-null object\n",
      "hours           45376 non-null object\n",
      "is_open         59371 non-null int64\n",
      "latitude        59371 non-null float64\n",
      "longitude       59371 non-null float64\n",
      "name            59371 non-null object\n",
      "postal_code     59269 non-null object\n",
      "review_count    59371 non-null int64\n",
      "stars           59371 non-null float64\n",
      "state           59371 non-null object\n",
      "dtypes: float64(3), int64(2), object(9)\n",
      "memory usage: 6.8+ MB\n"
     ]
    }
   ],
   "source": [
    "restaurant_df.info()"
   ]
  },
  {
   "cell_type": "code",
   "execution_count": 58,
   "metadata": {
    "jupyter": {
     "outputs_hidden": true
    }
   },
   "outputs": [],
   "source": [
    "restaurant_df = restaurant_df[restaurant_df.is_open != 0]"
   ]
  },
  {
   "cell_type": "code",
   "execution_count": 59,
   "metadata": {
    "jupyter": {
     "outputs_hidden": true
    }
   },
   "outputs": [
    {
     "name": "stdout",
     "output_type": "stream",
     "text": [
      "<class 'pandas.core.frame.DataFrame'>\n",
      "Int64Index: 42237 entries, 1 to 192603\n",
      "Data columns (total 14 columns):\n",
      "address         41913 non-null object\n",
      "attributes      40477 non-null object\n",
      "business_id     42237 non-null object\n",
      "categories      42237 non-null object\n",
      "city            42237 non-null object\n",
      "hours           34568 non-null object\n",
      "is_open         42237 non-null int64\n",
      "latitude        42237 non-null float64\n",
      "longitude       42237 non-null float64\n",
      "name            42237 non-null object\n",
      "postal_code     42147 non-null object\n",
      "review_count    42237 non-null int64\n",
      "stars           42237 non-null float64\n",
      "state           42237 non-null object\n",
      "dtypes: float64(3), int64(2), object(9)\n",
      "memory usage: 4.8+ MB\n"
     ]
    }
   ],
   "source": [
    "restaurant_df.info()"
   ]
  },
  {
   "cell_type": "code",
   "execution_count": 60,
   "metadata": {
    "jupyter": {
     "outputs_hidden": true
    }
   },
   "outputs": [],
   "source": [
    "restaurant_df.drop([\"is_open\"], axis=1, inplace=True)"
   ]
  },
  {
   "cell_type": "code",
   "execution_count": 61,
   "metadata": {
    "jupyter": {
     "outputs_hidden": true
    }
   },
   "outputs": [
    {
     "name": "stdout",
     "output_type": "stream",
     "text": [
      "<class 'pandas.core.frame.DataFrame'>\n",
      "Int64Index: 42237 entries, 1 to 192603\n",
      "Data columns (total 13 columns):\n",
      "address         41913 non-null object\n",
      "attributes      40477 non-null object\n",
      "business_id     42237 non-null object\n",
      "categories      42237 non-null object\n",
      "city            42237 non-null object\n",
      "hours           34568 non-null object\n",
      "latitude        42237 non-null float64\n",
      "longitude       42237 non-null float64\n",
      "name            42237 non-null object\n",
      "postal_code     42147 non-null object\n",
      "review_count    42237 non-null int64\n",
      "stars           42237 non-null float64\n",
      "state           42237 non-null object\n",
      "dtypes: float64(3), int64(1), object(9)\n",
      "memory usage: 4.5+ MB\n"
     ]
    }
   ],
   "source": [
    "restaurant_df.info()"
   ]
  },
  {
   "cell_type": "code",
   "execution_count": 62,
   "metadata": {},
   "outputs": [],
   "source": [
    "#My job starts"
   ]
  },
  {
   "cell_type": "code",
   "execution_count": 63,
   "metadata": {},
   "outputs": [
    {
     "data": {
      "text/html": [
       "<div>\n",
       "<style scoped>\n",
       "    .dataframe tbody tr th:only-of-type {\n",
       "        vertical-align: middle;\n",
       "    }\n",
       "\n",
       "    .dataframe tbody tr th {\n",
       "        vertical-align: top;\n",
       "    }\n",
       "\n",
       "    .dataframe thead th {\n",
       "        text-align: right;\n",
       "    }\n",
       "</style>\n",
       "<table border=\"1\" class=\"dataframe\">\n",
       "  <thead>\n",
       "    <tr style=\"text-align: right;\">\n",
       "      <th></th>\n",
       "      <th>address</th>\n",
       "      <th>attributes</th>\n",
       "      <th>business_id</th>\n",
       "      <th>categories</th>\n",
       "      <th>city</th>\n",
       "      <th>hours</th>\n",
       "      <th>latitude</th>\n",
       "      <th>longitude</th>\n",
       "      <th>name</th>\n",
       "      <th>postal_code</th>\n",
       "      <th>review_count</th>\n",
       "      <th>stars</th>\n",
       "      <th>state</th>\n",
       "    </tr>\n",
       "  </thead>\n",
       "  <tbody>\n",
       "    <tr>\n",
       "      <td>1</td>\n",
       "      <td>30 Eglinton Avenue W</td>\n",
       "      <td>{'RestaurantsReservations': 'True', 'GoodForMe...</td>\n",
       "      <td>QXAEGFB4oINsVuTFxEYKFQ</td>\n",
       "      <td>Specialty Food, Restaurants, Dim Sum, Imported...</td>\n",
       "      <td>Mississauga</td>\n",
       "      <td>{'Monday': '9:0-0:0', 'Tuesday': '9:0-0:0', 'W...</td>\n",
       "      <td>43.605499</td>\n",
       "      <td>-79.652289</td>\n",
       "      <td>Emerald Chinese Restaurant</td>\n",
       "      <td>L5R 3E7</td>\n",
       "      <td>128</td>\n",
       "      <td>2.5</td>\n",
       "      <td>ON</td>\n",
       "    </tr>\n",
       "    <tr>\n",
       "      <td>2</td>\n",
       "      <td>10110 Johnston Rd, Ste 15</td>\n",
       "      <td>{'GoodForKids': 'True', 'NoiseLevel': \"u'avera...</td>\n",
       "      <td>gnKjwL_1w79qoiV3IC_xQQ</td>\n",
       "      <td>Sushi Bars, Restaurants, Japanese</td>\n",
       "      <td>Charlotte</td>\n",
       "      <td>{'Monday': '17:30-21:30', 'Wednesday': '17:30-...</td>\n",
       "      <td>35.092564</td>\n",
       "      <td>-80.859132</td>\n",
       "      <td>Musashi Japanese Restaurant</td>\n",
       "      <td>28210</td>\n",
       "      <td>170</td>\n",
       "      <td>4.0</td>\n",
       "      <td>NC</td>\n",
       "    </tr>\n",
       "    <tr>\n",
       "      <td>11</td>\n",
       "      <td>2450 E Indian School Rd</td>\n",
       "      <td>{'RestaurantsTakeOut': 'True', 'BusinessParkin...</td>\n",
       "      <td>1Dfx3zM-rW4n-31KeC8sJg</td>\n",
       "      <td>Restaurants, Breakfast &amp; Brunch, Mexican, Taco...</td>\n",
       "      <td>Phoenix</td>\n",
       "      <td>{'Monday': '7:0-0:0', 'Tuesday': '7:0-0:0', 'W...</td>\n",
       "      <td>33.495194</td>\n",
       "      <td>-112.028588</td>\n",
       "      <td>Taco Bell</td>\n",
       "      <td>85016</td>\n",
       "      <td>18</td>\n",
       "      <td>3.0</td>\n",
       "      <td>AZ</td>\n",
       "    </tr>\n",
       "    <tr>\n",
       "      <td>13</td>\n",
       "      <td>5981 Andrews Rd</td>\n",
       "      <td>{'RestaurantsPriceRange2': '2', 'BusinessAccep...</td>\n",
       "      <td>fweCYi8FmbJXHCqLnwuk8w</td>\n",
       "      <td>Italian, Restaurants, Pizza, Chicken Wings</td>\n",
       "      <td>Mentor-on-the-Lake</td>\n",
       "      <td>{'Monday': '10:0-0:0', 'Tuesday': '10:0-0:0', ...</td>\n",
       "      <td>41.708520</td>\n",
       "      <td>-81.359556</td>\n",
       "      <td>Marco's Pizza</td>\n",
       "      <td>44060</td>\n",
       "      <td>16</td>\n",
       "      <td>4.0</td>\n",
       "      <td>OH</td>\n",
       "    </tr>\n",
       "    <tr>\n",
       "      <td>23</td>\n",
       "      <td>Center Core - Food Court, Fl 3, Pittsburgh Int...</td>\n",
       "      <td>{'RestaurantsTakeOut': 'True', 'BusinessParkin...</td>\n",
       "      <td>1RHY4K3BD22FK7Cfftn8Mg</td>\n",
       "      <td>Sandwiches, Salad, Restaurants, Burgers, Comfo...</td>\n",
       "      <td>Pittsburgh</td>\n",
       "      <td>NaN</td>\n",
       "      <td>40.496177</td>\n",
       "      <td>-80.246011</td>\n",
       "      <td>Marathon Diner</td>\n",
       "      <td>15231</td>\n",
       "      <td>35</td>\n",
       "      <td>4.0</td>\n",
       "      <td>PA</td>\n",
       "    </tr>\n",
       "  </tbody>\n",
       "</table>\n",
       "</div>"
      ],
      "text/plain": [
       "                                              address  \\\n",
       "1                                30 Eglinton Avenue W   \n",
       "2                           10110 Johnston Rd, Ste 15   \n",
       "11                            2450 E Indian School Rd   \n",
       "13                                    5981 Andrews Rd   \n",
       "23  Center Core - Food Court, Fl 3, Pittsburgh Int...   \n",
       "\n",
       "                                           attributes             business_id  \\\n",
       "1   {'RestaurantsReservations': 'True', 'GoodForMe...  QXAEGFB4oINsVuTFxEYKFQ   \n",
       "2   {'GoodForKids': 'True', 'NoiseLevel': \"u'avera...  gnKjwL_1w79qoiV3IC_xQQ   \n",
       "11  {'RestaurantsTakeOut': 'True', 'BusinessParkin...  1Dfx3zM-rW4n-31KeC8sJg   \n",
       "13  {'RestaurantsPriceRange2': '2', 'BusinessAccep...  fweCYi8FmbJXHCqLnwuk8w   \n",
       "23  {'RestaurantsTakeOut': 'True', 'BusinessParkin...  1RHY4K3BD22FK7Cfftn8Mg   \n",
       "\n",
       "                                           categories                city  \\\n",
       "1   Specialty Food, Restaurants, Dim Sum, Imported...         Mississauga   \n",
       "2                   Sushi Bars, Restaurants, Japanese           Charlotte   \n",
       "11  Restaurants, Breakfast & Brunch, Mexican, Taco...             Phoenix   \n",
       "13         Italian, Restaurants, Pizza, Chicken Wings  Mentor-on-the-Lake   \n",
       "23  Sandwiches, Salad, Restaurants, Burgers, Comfo...          Pittsburgh   \n",
       "\n",
       "                                                hours   latitude   longitude  \\\n",
       "1   {'Monday': '9:0-0:0', 'Tuesday': '9:0-0:0', 'W...  43.605499  -79.652289   \n",
       "2   {'Monday': '17:30-21:30', 'Wednesday': '17:30-...  35.092564  -80.859132   \n",
       "11  {'Monday': '7:0-0:0', 'Tuesday': '7:0-0:0', 'W...  33.495194 -112.028588   \n",
       "13  {'Monday': '10:0-0:0', 'Tuesday': '10:0-0:0', ...  41.708520  -81.359556   \n",
       "23                                                NaN  40.496177  -80.246011   \n",
       "\n",
       "                           name postal_code  review_count  stars state  \n",
       "1    Emerald Chinese Restaurant     L5R 3E7           128    2.5    ON  \n",
       "2   Musashi Japanese Restaurant       28210           170    4.0    NC  \n",
       "11                    Taco Bell       85016            18    3.0    AZ  \n",
       "13                Marco's Pizza       44060            16    4.0    OH  \n",
       "23               Marathon Diner       15231            35    4.0    PA  "
      ]
     },
     "execution_count": 63,
     "metadata": {},
     "output_type": "execute_result"
    }
   ],
   "source": [
    "restaurant_df.head()"
   ]
  },
  {
   "cell_type": "code",
   "execution_count": 64,
   "metadata": {},
   "outputs": [
    {
     "data": {
      "text/html": [
       "<div>\n",
       "<style scoped>\n",
       "    .dataframe tbody tr th:only-of-type {\n",
       "        vertical-align: middle;\n",
       "    }\n",
       "\n",
       "    .dataframe tbody tr th {\n",
       "        vertical-align: top;\n",
       "    }\n",
       "\n",
       "    .dataframe thead th {\n",
       "        text-align: right;\n",
       "    }\n",
       "</style>\n",
       "<table border=\"1\" class=\"dataframe\">\n",
       "  <thead>\n",
       "    <tr style=\"text-align: right;\">\n",
       "      <th></th>\n",
       "      <th>address</th>\n",
       "      <th>attributes</th>\n",
       "      <th>business_id</th>\n",
       "      <th>categories</th>\n",
       "      <th>city</th>\n",
       "      <th>hours</th>\n",
       "      <th>latitude</th>\n",
       "      <th>longitude</th>\n",
       "      <th>name</th>\n",
       "      <th>postal_code</th>\n",
       "      <th>review_count</th>\n",
       "      <th>stars</th>\n",
       "      <th>state</th>\n",
       "    </tr>\n",
       "  </thead>\n",
       "  <tbody>\n",
       "    <tr>\n",
       "      <td>133942</td>\n",
       "      <td>2936 Finch Avenue E</td>\n",
       "      <td>{'HasTV': 'True', 'RestaurantsGoodForGroups': ...</td>\n",
       "      <td>LixFCMGKdptI8WRsjAl5cQ</td>\n",
       "      <td>Fast Food, Restaurants, Burgers</td>\n",
       "      <td>AGINCOURT</td>\n",
       "      <td>{'Monday': '0:0-0:0', 'Tuesday': '0:0-0:0', 'W...</td>\n",
       "      <td>43.794305</td>\n",
       "      <td>-79.329995</td>\n",
       "      <td>McDonald's</td>\n",
       "      <td>M1W 2T4</td>\n",
       "      <td>7</td>\n",
       "      <td>2.0</td>\n",
       "      <td>ON</td>\n",
       "    </tr>\n",
       "    <tr>\n",
       "      <td>49301</td>\n",
       "      <td>3850 Sheppard Avenue E</td>\n",
       "      <td>{'GoodForMeal': \"{'dessert': False, 'latenight...</td>\n",
       "      <td>U_ihDw5JhfmSKBUUkpEQqw</td>\n",
       "      <td>Burgers, Restaurants, Fast Food</td>\n",
       "      <td>Agincourt</td>\n",
       "      <td>{'Monday': '7:0-11:0', 'Tuesday': '7:0-11:0', ...</td>\n",
       "      <td>43.784517</td>\n",
       "      <td>-79.291325</td>\n",
       "      <td>McDonald's</td>\n",
       "      <td>M1T 3L4</td>\n",
       "      <td>5</td>\n",
       "      <td>2.5</td>\n",
       "      <td>ON</td>\n",
       "    </tr>\n",
       "    <tr>\n",
       "      <td>139099</td>\n",
       "      <td>4625 E Ray Rd</td>\n",
       "      <td>{'RestaurantsPriceRange2': '1', 'RestaurantsRe...</td>\n",
       "      <td>0Rni7ocMC_Lg2UH0lDeKMQ</td>\n",
       "      <td>Italian, Pizza, Sandwiches, Restaurants, Food</td>\n",
       "      <td>Ahwatukee</td>\n",
       "      <td>{'Monday': '10:30-22:0', 'Tuesday': '10:30-22:...</td>\n",
       "      <td>33.318059</td>\n",
       "      <td>-111.983528</td>\n",
       "      <td>Barro's Pizza</td>\n",
       "      <td>85044</td>\n",
       "      <td>99</td>\n",
       "      <td>3.5</td>\n",
       "      <td>AZ</td>\n",
       "    </tr>\n",
       "    <tr>\n",
       "      <td>96160</td>\n",
       "      <td>3646 E Ray Rd, Ste 20</td>\n",
       "      <td>{'RestaurantsGoodForGroups': 'True', 'Restaura...</td>\n",
       "      <td>eVv6cnwhabK8ig5Di2hXQQ</td>\n",
       "      <td>Sandwiches, Italian, Pizza, Restaurants</td>\n",
       "      <td>Ahwatukee</td>\n",
       "      <td>{'Monday': '16:0-21:0', 'Tuesday': '16:0-21:0'...</td>\n",
       "      <td>33.316764</td>\n",
       "      <td>-112.004009</td>\n",
       "      <td>Florencia Pizza Bistro</td>\n",
       "      <td>85044</td>\n",
       "      <td>194</td>\n",
       "      <td>4.0</td>\n",
       "      <td>AZ</td>\n",
       "    </tr>\n",
       "    <tr>\n",
       "      <td>148434</td>\n",
       "      <td>4232 E Chandler Blvd</td>\n",
       "      <td>{'GoodForKids': 'True', 'RestaurantsGoodForGro...</td>\n",
       "      <td>qJf61TR4Jq9Xph5RiXPS9A</td>\n",
       "      <td>Desserts, Food, Coffee &amp; Tea, Creperies, Resta...</td>\n",
       "      <td>Ahwatukee</td>\n",
       "      <td>{'Monday': '7:0-15:0', 'Tuesday': '7:0-15:0', ...</td>\n",
       "      <td>33.305860</td>\n",
       "      <td>-111.991327</td>\n",
       "      <td>Cupz N' Crepes</td>\n",
       "      <td>85048</td>\n",
       "      <td>300</td>\n",
       "      <td>4.0</td>\n",
       "      <td>AZ</td>\n",
       "    </tr>\n",
       "  </tbody>\n",
       "</table>\n",
       "</div>"
      ],
      "text/plain": [
       "                       address  \\\n",
       "133942     2936 Finch Avenue E   \n",
       "49301   3850 Sheppard Avenue E   \n",
       "139099           4625 E Ray Rd   \n",
       "96160    3646 E Ray Rd, Ste 20   \n",
       "148434    4232 E Chandler Blvd   \n",
       "\n",
       "                                               attributes  \\\n",
       "133942  {'HasTV': 'True', 'RestaurantsGoodForGroups': ...   \n",
       "49301   {'GoodForMeal': \"{'dessert': False, 'latenight...   \n",
       "139099  {'RestaurantsPriceRange2': '1', 'RestaurantsRe...   \n",
       "96160   {'RestaurantsGoodForGroups': 'True', 'Restaura...   \n",
       "148434  {'GoodForKids': 'True', 'RestaurantsGoodForGro...   \n",
       "\n",
       "                   business_id  \\\n",
       "133942  LixFCMGKdptI8WRsjAl5cQ   \n",
       "49301   U_ihDw5JhfmSKBUUkpEQqw   \n",
       "139099  0Rni7ocMC_Lg2UH0lDeKMQ   \n",
       "96160   eVv6cnwhabK8ig5Di2hXQQ   \n",
       "148434  qJf61TR4Jq9Xph5RiXPS9A   \n",
       "\n",
       "                                               categories       city  \\\n",
       "133942                    Fast Food, Restaurants, Burgers  AGINCOURT   \n",
       "49301                     Burgers, Restaurants, Fast Food  Agincourt   \n",
       "139099      Italian, Pizza, Sandwiches, Restaurants, Food  Ahwatukee   \n",
       "96160             Sandwiches, Italian, Pizza, Restaurants  Ahwatukee   \n",
       "148434  Desserts, Food, Coffee & Tea, Creperies, Resta...  Ahwatukee   \n",
       "\n",
       "                                                    hours   latitude  \\\n",
       "133942  {'Monday': '0:0-0:0', 'Tuesday': '0:0-0:0', 'W...  43.794305   \n",
       "49301   {'Monday': '7:0-11:0', 'Tuesday': '7:0-11:0', ...  43.784517   \n",
       "139099  {'Monday': '10:30-22:0', 'Tuesday': '10:30-22:...  33.318059   \n",
       "96160   {'Monday': '16:0-21:0', 'Tuesday': '16:0-21:0'...  33.316764   \n",
       "148434  {'Monday': '7:0-15:0', 'Tuesday': '7:0-15:0', ...  33.305860   \n",
       "\n",
       "         longitude                    name postal_code  review_count  stars  \\\n",
       "133942  -79.329995              McDonald's     M1W 2T4             7    2.0   \n",
       "49301   -79.291325              McDonald's     M1T 3L4             5    2.5   \n",
       "139099 -111.983528           Barro's Pizza       85044            99    3.5   \n",
       "96160  -112.004009  Florencia Pizza Bistro       85044           194    4.0   \n",
       "148434 -111.991327          Cupz N' Crepes       85048           300    4.0   \n",
       "\n",
       "       state  \n",
       "133942    ON  \n",
       "49301     ON  \n",
       "139099    AZ  \n",
       "96160     AZ  \n",
       "148434    AZ  "
      ]
     },
     "execution_count": 64,
     "metadata": {},
     "output_type": "execute_result"
    }
   ],
   "source": [
    "restr_city = restaurant_df.sort_values([\"city\"])\n",
    "restr_city.head()"
   ]
  },
  {
   "cell_type": "code",
   "execution_count": 65,
   "metadata": {},
   "outputs": [
    {
     "data": {
      "text/plain": [
       "Toronto             5253\n",
       "Las Vegas           4221\n",
       "Montréal            2815\n",
       "Phoenix             2719\n",
       "Calgary             2212\n",
       "                    ... \n",
       "Squirrel Hill          1\n",
       "Mercier                1\n",
       "Mcfarland              1\n",
       "springdale             1\n",
       "Ville Mont-Royal       1\n",
       "Name: city, Length: 732, dtype: int64"
      ]
     },
     "execution_count": 65,
     "metadata": {},
     "output_type": "execute_result"
    }
   ],
   "source": [
    "restaurant_df[\"city\"].value_counts()"
   ]
  },
  {
   "cell_type": "code",
   "execution_count": 66,
   "metadata": {},
   "outputs": [
    {
     "data": {
      "text/plain": [
       "Toronto        5253\n",
       "Las Vegas      4221\n",
       "Montréal       2815\n",
       "Phoenix        2719\n",
       "Calgary        2212\n",
       "Charlotte      1961\n",
       "Pittsburgh     1708\n",
       "Mississauga    1142\n",
       "Cleveland      1087\n",
       "Scottsdale      931\n",
       "Mesa            825\n",
       "Madison         742\n",
       "Tempe           649\n",
       "Markham         567\n",
       "Henderson       566\n",
       "Chandler        546\n",
       "Name: city, dtype: int64"
      ]
     },
     "execution_count": 66,
     "metadata": {},
     "output_type": "execute_result"
    }
   ],
   "source": [
    "#cities with quantity of restaurants bigger than 500\n",
    "vc = restaurant_df[\"city\"].value_counts()\n",
    "vc [vc >= 500]"
   ]
  },
  {
   "cell_type": "code",
   "execution_count": 67,
   "metadata": {},
   "outputs": [
    {
     "data": {
      "text/plain": [
       "5253"
      ]
     },
     "execution_count": 67,
     "metadata": {},
     "output_type": "execute_result"
    }
   ],
   "source": [
    "restaurant_df[\"city\"].value_counts()[0]"
   ]
  },
  {
   "cell_type": "code",
   "execution_count": 68,
   "metadata": {},
   "outputs": [
    {
     "data": {
      "text/plain": [
       "pandas.core.series.Series"
      ]
     },
     "execution_count": 68,
     "metadata": {},
     "output_type": "execute_result"
    }
   ],
   "source": [
    "type(restaurant_df[\"city\"].value_counts())\n"
   ]
  },
  {
   "cell_type": "code",
   "execution_count": 69,
   "metadata": {},
   "outputs": [
    {
     "data": {
      "text/plain": [
       "'Toronto'"
      ]
     },
     "execution_count": 69,
     "metadata": {},
     "output_type": "execute_result"
    }
   ],
   "source": [
    "#the city with the biggest quantity of restaurants (5253)\n",
    "restaurant_df[\"city\"].value_counts().index.values[0]"
   ]
  },
  {
   "cell_type": "code",
   "execution_count": 70,
   "metadata": {},
   "outputs": [],
   "source": [
    "with_biggest_restrs_qt =restaurant_df[\"city\"].value_counts().index.values[0]"
   ]
  },
  {
   "cell_type": "code",
   "execution_count": 71,
   "metadata": {},
   "outputs": [
    {
     "data": {
      "text/plain": [
       "'Toronto'"
      ]
     },
     "execution_count": 71,
     "metadata": {},
     "output_type": "execute_result"
    }
   ],
   "source": [
    "with_biggest_restrs_qt"
   ]
  },
  {
   "cell_type": "code",
   "execution_count": 72,
   "metadata": {},
   "outputs": [],
   "source": [
    "best_restaurants = restaurant_df[restaurant_df[\"stars\"] >=5.0][\"city\"].value_counts()"
   ]
  },
  {
   "cell_type": "code",
   "execution_count": 73,
   "metadata": {},
   "outputs": [
    {
     "data": {
      "text/plain": [
       "Las Vegas          138\n",
       "Montréal           124\n",
       "Toronto            115\n",
       "Phoenix            105\n",
       "Calgary             66\n",
       "Charlotte           45\n",
       "Pittsburgh          39\n",
       "Cleveland           39\n",
       "Scottsdale          37\n",
       "Mississauga         22\n",
       "Tempe               17\n",
       "Mesa                14\n",
       "Laval               14\n",
       "Madison             14\n",
       "Glendale            12\n",
       "Chandler            11\n",
       "Henderson           10\n",
       "Gilbert              9\n",
       "North Las Vegas      8\n",
       "Mentor               7\n",
       "Champaign            7\n",
       "Vaughan              7\n",
       "Markham              6\n",
       "Lakewood             6\n",
       "Newmarket            6\n",
       "Name: city, dtype: int64"
      ]
     },
     "execution_count": 73,
     "metadata": {},
     "output_type": "execute_result"
    }
   ],
   "source": [
    "#the cities has 5.0 or more stars restaurants, quantity\n",
    "best_restaurants.head(25)"
   ]
  },
  {
   "cell_type": "code",
   "execution_count": 74,
   "metadata": {},
   "outputs": [
    {
     "data": {
      "text/plain": [
       "Pizza, Restaurants                                                                764\n",
       "Restaurants, Pizza                                                                761\n",
       "Chinese, Restaurants                                                              585\n",
       "Restaurants, Chinese                                                              544\n",
       "Mexican, Restaurants                                                              538\n",
       "                                                                                 ... \n",
       "Halal, Mediterranean, Afghan, Restaurants                                           1\n",
       "Sandwiches, Event Planning & Services, Caterers, Delis, Restaurants, Fast Food      1\n",
       "Indian, Restaurants, Pizza, Vegan, Vegetarian                                       1\n",
       "Italian, Restaurants, Butcher, Food                                                 1\n",
       "Breakfast & Brunch, Restaurants, Food, Street Vendors                               1\n",
       "Name: categories, Length: 23636, dtype: int64"
      ]
     },
     "execution_count": 74,
     "metadata": {},
     "output_type": "execute_result"
    }
   ],
   "source": [
    "#categories of restauranrs awailable \n",
    "restaurant_df[\"categories\"].value_counts()"
   ]
  },
  {
   "cell_type": "code",
   "execution_count": 75,
   "metadata": {},
   "outputs": [
    {
     "data": {
      "text/html": [
       "<div>\n",
       "<style scoped>\n",
       "    .dataframe tbody tr th:only-of-type {\n",
       "        vertical-align: middle;\n",
       "    }\n",
       "\n",
       "    .dataframe tbody tr th {\n",
       "        vertical-align: top;\n",
       "    }\n",
       "\n",
       "    .dataframe thead th {\n",
       "        text-align: right;\n",
       "    }\n",
       "</style>\n",
       "<table border=\"1\" class=\"dataframe\">\n",
       "  <thead>\n",
       "    <tr style=\"text-align: right;\">\n",
       "      <th></th>\n",
       "      <th>address</th>\n",
       "      <th>attributes</th>\n",
       "      <th>business_id</th>\n",
       "      <th>categories</th>\n",
       "      <th>city</th>\n",
       "      <th>hours</th>\n",
       "      <th>latitude</th>\n",
       "      <th>longitude</th>\n",
       "      <th>name</th>\n",
       "      <th>postal_code</th>\n",
       "      <th>review_count</th>\n",
       "      <th>stars</th>\n",
       "      <th>state</th>\n",
       "    </tr>\n",
       "  </thead>\n",
       "  <tbody>\n",
       "    <tr>\n",
       "      <td>1</td>\n",
       "      <td>30 Eglinton Avenue W</td>\n",
       "      <td>{'RestaurantsReservations': 'True', 'GoodForMe...</td>\n",
       "      <td>QXAEGFB4oINsVuTFxEYKFQ</td>\n",
       "      <td>Specialty Food, Restaurants, Dim Sum, Imported...</td>\n",
       "      <td>Mississauga</td>\n",
       "      <td>{'Monday': '9:0-0:0', 'Tuesday': '9:0-0:0', 'W...</td>\n",
       "      <td>43.605499</td>\n",
       "      <td>-79.652289</td>\n",
       "      <td>Emerald Chinese Restaurant</td>\n",
       "      <td>L5R 3E7</td>\n",
       "      <td>128</td>\n",
       "      <td>2.5</td>\n",
       "      <td>ON</td>\n",
       "    </tr>\n",
       "    <tr>\n",
       "      <td>2</td>\n",
       "      <td>10110 Johnston Rd, Ste 15</td>\n",
       "      <td>{'GoodForKids': 'True', 'NoiseLevel': 'u'avera...</td>\n",
       "      <td>gnKjwL_1w79qoiV3IC_xQQ</td>\n",
       "      <td>Sushi Bars, Restaurants, Japanese</td>\n",
       "      <td>Charlotte</td>\n",
       "      <td>{'Monday': '17:30-21:30', 'Wednesday': '17:30-...</td>\n",
       "      <td>35.092564</td>\n",
       "      <td>-80.859132</td>\n",
       "      <td>Musashi Japanese Restaurant</td>\n",
       "      <td>28210</td>\n",
       "      <td>170</td>\n",
       "      <td>4.0</td>\n",
       "      <td>NC</td>\n",
       "    </tr>\n",
       "    <tr>\n",
       "      <td>11</td>\n",
       "      <td>2450 E Indian School Rd</td>\n",
       "      <td>{'RestaurantsTakeOut': 'True', 'BusinessParkin...</td>\n",
       "      <td>1Dfx3zM-rW4n-31KeC8sJg</td>\n",
       "      <td>Restaurants, Breakfast &amp; Brunch, Mexican, Taco...</td>\n",
       "      <td>Phoenix</td>\n",
       "      <td>{'Monday': '7:0-0:0', 'Tuesday': '7:0-0:0', 'W...</td>\n",
       "      <td>33.495194</td>\n",
       "      <td>-112.028588</td>\n",
       "      <td>Taco Bell</td>\n",
       "      <td>85016</td>\n",
       "      <td>18</td>\n",
       "      <td>3.0</td>\n",
       "      <td>AZ</td>\n",
       "    </tr>\n",
       "    <tr>\n",
       "      <td>13</td>\n",
       "      <td>5981 Andrews Rd</td>\n",
       "      <td>{'RestaurantsPriceRange2': '2', 'BusinessAccep...</td>\n",
       "      <td>fweCYi8FmbJXHCqLnwuk8w</td>\n",
       "      <td>Italian, Restaurants, Pizza, Chicken Wings</td>\n",
       "      <td>Mentor-on-the-Lake</td>\n",
       "      <td>{'Monday': '10:0-0:0', 'Tuesday': '10:0-0:0', ...</td>\n",
       "      <td>41.708520</td>\n",
       "      <td>-81.359556</td>\n",
       "      <td>Marco's Pizza</td>\n",
       "      <td>44060</td>\n",
       "      <td>16</td>\n",
       "      <td>4.0</td>\n",
       "      <td>OH</td>\n",
       "    </tr>\n",
       "    <tr>\n",
       "      <td>23</td>\n",
       "      <td>Center Core - Food Court, Fl 3, Pittsburgh Int...</td>\n",
       "      <td>{'RestaurantsTakeOut': 'True', 'BusinessParkin...</td>\n",
       "      <td>1RHY4K3BD22FK7Cfftn8Mg</td>\n",
       "      <td>Sandwiches, Salad, Restaurants, Burgers, Comfo...</td>\n",
       "      <td>Pittsburgh</td>\n",
       "      <td>NaN</td>\n",
       "      <td>40.496177</td>\n",
       "      <td>-80.246011</td>\n",
       "      <td>Marathon Diner</td>\n",
       "      <td>15231</td>\n",
       "      <td>35</td>\n",
       "      <td>4.0</td>\n",
       "      <td>PA</td>\n",
       "    </tr>\n",
       "  </tbody>\n",
       "</table>\n",
       "</div>"
      ],
      "text/plain": [
       "                                              address  \\\n",
       "1                                30 Eglinton Avenue W   \n",
       "2                           10110 Johnston Rd, Ste 15   \n",
       "11                            2450 E Indian School Rd   \n",
       "13                                    5981 Andrews Rd   \n",
       "23  Center Core - Food Court, Fl 3, Pittsburgh Int...   \n",
       "\n",
       "                                           attributes             business_id  \\\n",
       "1   {'RestaurantsReservations': 'True', 'GoodForMe...  QXAEGFB4oINsVuTFxEYKFQ   \n",
       "2   {'GoodForKids': 'True', 'NoiseLevel': 'u'avera...  gnKjwL_1w79qoiV3IC_xQQ   \n",
       "11  {'RestaurantsTakeOut': 'True', 'BusinessParkin...  1Dfx3zM-rW4n-31KeC8sJg   \n",
       "13  {'RestaurantsPriceRange2': '2', 'BusinessAccep...  fweCYi8FmbJXHCqLnwuk8w   \n",
       "23  {'RestaurantsTakeOut': 'True', 'BusinessParkin...  1RHY4K3BD22FK7Cfftn8Mg   \n",
       "\n",
       "                                           categories                city  \\\n",
       "1   Specialty Food, Restaurants, Dim Sum, Imported...         Mississauga   \n",
       "2                   Sushi Bars, Restaurants, Japanese           Charlotte   \n",
       "11  Restaurants, Breakfast & Brunch, Mexican, Taco...             Phoenix   \n",
       "13         Italian, Restaurants, Pizza, Chicken Wings  Mentor-on-the-Lake   \n",
       "23  Sandwiches, Salad, Restaurants, Burgers, Comfo...          Pittsburgh   \n",
       "\n",
       "                                                hours   latitude   longitude  \\\n",
       "1   {'Monday': '9:0-0:0', 'Tuesday': '9:0-0:0', 'W...  43.605499  -79.652289   \n",
       "2   {'Monday': '17:30-21:30', 'Wednesday': '17:30-...  35.092564  -80.859132   \n",
       "11  {'Monday': '7:0-0:0', 'Tuesday': '7:0-0:0', 'W...  33.495194 -112.028588   \n",
       "13  {'Monday': '10:0-0:0', 'Tuesday': '10:0-0:0', ...  41.708520  -81.359556   \n",
       "23                                                NaN  40.496177  -80.246011   \n",
       "\n",
       "                           name postal_code  review_count  stars state  \n",
       "1    Emerald Chinese Restaurant     L5R 3E7           128    2.5    ON  \n",
       "2   Musashi Japanese Restaurant       28210           170    4.0    NC  \n",
       "11                    Taco Bell       85016            18    3.0    AZ  \n",
       "13                Marco's Pizza       44060            16    4.0    OH  \n",
       "23               Marathon Diner       15231            35    4.0    PA  "
      ]
     },
     "execution_count": 75,
     "metadata": {},
     "output_type": "execute_result"
    }
   ],
   "source": [
    "# legend: yang chinese family, 2 children, likes sports and healthy food \n",
    "\n",
    "\n",
    "# restaurant_df is changed in the way that now the \"attributes\" contains dictionary (NaN values are eliminated firstly)\n",
    "# apply literal_eval to convert data in \"attributes\" to dictionary\n",
    "\n",
    "\n",
    "import ast\n",
    "\n",
    "restaurant_df = restaurant_df.dropna(subset=[\"attributes\"])\n",
    "restaurant_df[\"attributes\"] = restaurant_df[\"attributes\"].apply(lambda x: ast.literal_eval(str(x)))\n",
    "restaurant_df.head()"
   ]
  },
  {
   "cell_type": "code",
   "execution_count": 76,
   "metadata": {},
   "outputs": [
    {
     "data": {
      "text/plain": [
       "dict"
      ]
     },
     "execution_count": 76,
     "metadata": {},
     "output_type": "execute_result"
    }
   ],
   "source": [
    "# we check that the value at column is dictionary now\n",
    "\n",
    "type(restaurant_df[\"attributes\"].iloc[2])\n",
    "# type(restaurant_df[\"hours\"].iloc[2]) is string"
   ]
  },
  {
   "cell_type": "code",
   "execution_count": 77,
   "metadata": {},
   "outputs": [
    {
     "data": {
      "text/plain": [
       "1     {'RestaurantsReservations': 'True', 'GoodForMe...\n",
       "2     {'GoodForKids': 'True', 'NoiseLevel': 'u'avera...\n",
       "11    {'RestaurantsTakeOut': 'True', 'BusinessParkin...\n",
       "13    {'RestaurantsPriceRange2': '2', 'BusinessAccep...\n",
       "23    {'RestaurantsTakeOut': 'True', 'BusinessParkin...\n",
       "Name: attributes, dtype: object"
      ]
     },
     "execution_count": 77,
     "metadata": {},
     "output_type": "execute_result"
    }
   ],
   "source": [
    "restaurant_df[\"attributes\"].head()"
   ]
  },
  {
   "cell_type": "code",
   "execution_count": 78,
   "metadata": {},
   "outputs": [
    {
     "data": {
      "text/plain": [
       "dict_keys(['RestaurantsReservations', 'GoodForMeal', 'BusinessParking', 'Caters', 'NoiseLevel', 'RestaurantsTableService', 'RestaurantsTakeOut', 'RestaurantsPriceRange2', 'OutdoorSeating', 'BikeParking', 'Ambience', 'HasTV', 'WiFi', 'GoodForKids', 'Alcohol', 'RestaurantsAttire', 'RestaurantsGoodForGroups', 'RestaurantsDelivery'])"
      ]
     },
     "execution_count": 78,
     "metadata": {},
     "output_type": "execute_result"
    }
   ],
   "source": [
    "# the list of possible attributes in the first row, basing on it we may construct our logic\n",
    "\n",
    "restaurant_df[\"attributes\"].iloc[0].keys()"
   ]
  },
  {
   "cell_type": "code",
   "execution_count": 79,
   "metadata": {},
   "outputs": [
    {
     "data": {
      "text/html": [
       "<div>\n",
       "<style scoped>\n",
       "    .dataframe tbody tr th:only-of-type {\n",
       "        vertical-align: middle;\n",
       "    }\n",
       "\n",
       "    .dataframe tbody tr th {\n",
       "        vertical-align: top;\n",
       "    }\n",
       "\n",
       "    .dataframe thead th {\n",
       "        text-align: right;\n",
       "    }\n",
       "</style>\n",
       "<table border=\"1\" class=\"dataframe\">\n",
       "  <thead>\n",
       "    <tr style=\"text-align: right;\">\n",
       "      <th></th>\n",
       "      <th>address</th>\n",
       "      <th>attributes</th>\n",
       "      <th>business_id</th>\n",
       "      <th>categories</th>\n",
       "      <th>city</th>\n",
       "      <th>hours</th>\n",
       "      <th>latitude</th>\n",
       "      <th>longitude</th>\n",
       "      <th>name</th>\n",
       "      <th>postal_code</th>\n",
       "      <th>review_count</th>\n",
       "      <th>stars</th>\n",
       "      <th>state</th>\n",
       "    </tr>\n",
       "  </thead>\n",
       "  <tbody>\n",
       "    <tr>\n",
       "      <td>1</td>\n",
       "      <td>30 Eglinton Avenue W</td>\n",
       "      <td>{'RestaurantsReservations': 'True', 'GoodForMe...</td>\n",
       "      <td>QXAEGFB4oINsVuTFxEYKFQ</td>\n",
       "      <td>Specialty Food, Restaurants, Dim Sum, Imported...</td>\n",
       "      <td>Mississauga</td>\n",
       "      <td>{'Monday': '9:0-0:0', 'Tuesday': '9:0-0:0', 'W...</td>\n",
       "      <td>43.605499</td>\n",
       "      <td>-79.652289</td>\n",
       "      <td>Emerald Chinese Restaurant</td>\n",
       "      <td>L5R 3E7</td>\n",
       "      <td>128</td>\n",
       "      <td>2.5</td>\n",
       "      <td>ON</td>\n",
       "    </tr>\n",
       "    <tr>\n",
       "      <td>2</td>\n",
       "      <td>10110 Johnston Rd, Ste 15</td>\n",
       "      <td>{'GoodForKids': 'True', 'NoiseLevel': 'u'avera...</td>\n",
       "      <td>gnKjwL_1w79qoiV3IC_xQQ</td>\n",
       "      <td>Sushi Bars, Restaurants, Japanese</td>\n",
       "      <td>Charlotte</td>\n",
       "      <td>{'Monday': '17:30-21:30', 'Wednesday': '17:30-...</td>\n",
       "      <td>35.092564</td>\n",
       "      <td>-80.859132</td>\n",
       "      <td>Musashi Japanese Restaurant</td>\n",
       "      <td>28210</td>\n",
       "      <td>170</td>\n",
       "      <td>4.0</td>\n",
       "      <td>NC</td>\n",
       "    </tr>\n",
       "    <tr>\n",
       "      <td>11</td>\n",
       "      <td>2450 E Indian School Rd</td>\n",
       "      <td>{'RestaurantsTakeOut': 'True', 'BusinessParkin...</td>\n",
       "      <td>1Dfx3zM-rW4n-31KeC8sJg</td>\n",
       "      <td>Restaurants, Breakfast &amp; Brunch, Mexican, Taco...</td>\n",
       "      <td>Phoenix</td>\n",
       "      <td>{'Monday': '7:0-0:0', 'Tuesday': '7:0-0:0', 'W...</td>\n",
       "      <td>33.495194</td>\n",
       "      <td>-112.028588</td>\n",
       "      <td>Taco Bell</td>\n",
       "      <td>85016</td>\n",
       "      <td>18</td>\n",
       "      <td>3.0</td>\n",
       "      <td>AZ</td>\n",
       "    </tr>\n",
       "    <tr>\n",
       "      <td>13</td>\n",
       "      <td>5981 Andrews Rd</td>\n",
       "      <td>{'RestaurantsPriceRange2': '2', 'BusinessAccep...</td>\n",
       "      <td>fweCYi8FmbJXHCqLnwuk8w</td>\n",
       "      <td>Italian, Restaurants, Pizza, Chicken Wings</td>\n",
       "      <td>Mentor-on-the-Lake</td>\n",
       "      <td>{'Monday': '10:0-0:0', 'Tuesday': '10:0-0:0', ...</td>\n",
       "      <td>41.708520</td>\n",
       "      <td>-81.359556</td>\n",
       "      <td>Marco's Pizza</td>\n",
       "      <td>44060</td>\n",
       "      <td>16</td>\n",
       "      <td>4.0</td>\n",
       "      <td>OH</td>\n",
       "    </tr>\n",
       "    <tr>\n",
       "      <td>23</td>\n",
       "      <td>Center Core - Food Court, Fl 3, Pittsburgh Int...</td>\n",
       "      <td>{'RestaurantsTakeOut': 'True', 'BusinessParkin...</td>\n",
       "      <td>1RHY4K3BD22FK7Cfftn8Mg</td>\n",
       "      <td>Sandwiches, Salad, Restaurants, Burgers, Comfo...</td>\n",
       "      <td>Pittsburgh</td>\n",
       "      <td>NaN</td>\n",
       "      <td>40.496177</td>\n",
       "      <td>-80.246011</td>\n",
       "      <td>Marathon Diner</td>\n",
       "      <td>15231</td>\n",
       "      <td>35</td>\n",
       "      <td>4.0</td>\n",
       "      <td>PA</td>\n",
       "    </tr>\n",
       "    <tr>\n",
       "      <td>...</td>\n",
       "      <td>...</td>\n",
       "      <td>...</td>\n",
       "      <td>...</td>\n",
       "      <td>...</td>\n",
       "      <td>...</td>\n",
       "      <td>...</td>\n",
       "      <td>...</td>\n",
       "      <td>...</td>\n",
       "      <td>...</td>\n",
       "      <td>...</td>\n",
       "      <td>...</td>\n",
       "      <td>...</td>\n",
       "      <td>...</td>\n",
       "    </tr>\n",
       "    <tr>\n",
       "      <td>192587</td>\n",
       "      <td>578 Yonge Street</td>\n",
       "      <td>{'RestaurantsPriceRange2': '2', 'RestaurantsGo...</td>\n",
       "      <td>oS0CnUbyv0GUoD3L8_3UPQ</td>\n",
       "      <td>Restaurants, Thai</td>\n",
       "      <td>Toronto</td>\n",
       "      <td>{'Monday': '0:0-0:0', 'Tuesday': '11:0-23:0', ...</td>\n",
       "      <td>43.665120</td>\n",
       "      <td>-79.384809</td>\n",
       "      <td>Thai Fantasy</td>\n",
       "      <td>M4Y 1Z3</td>\n",
       "      <td>113</td>\n",
       "      <td>4.0</td>\n",
       "      <td>ON</td>\n",
       "    </tr>\n",
       "    <tr>\n",
       "      <td>192589</td>\n",
       "      <td>3863 Medina Rd</td>\n",
       "      <td>{'RestaurantsPriceRange2': '2', 'HasTV': 'Fals...</td>\n",
       "      <td>ghovD5ZTGDQ5Q2U4ERddWw</td>\n",
       "      <td>Burgers, Restaurants, Fast Food, American (New)</td>\n",
       "      <td>Fairlawn</td>\n",
       "      <td>{'Monday': '11:0-22:0', 'Tuesday': '11:0-22:0'...</td>\n",
       "      <td>41.136561</td>\n",
       "      <td>-81.639712</td>\n",
       "      <td>Five Guys</td>\n",
       "      <td>44333</td>\n",
       "      <td>22</td>\n",
       "      <td>4.0</td>\n",
       "      <td>OH</td>\n",
       "    </tr>\n",
       "    <tr>\n",
       "      <td>192595</td>\n",
       "      <td>1450 Kingston Rd</td>\n",
       "      <td>{'BikeParking': 'True', 'RestaurantsAttire': '...</td>\n",
       "      <td>h3QErqS3OZgLJ5Tb6-sLyQ</td>\n",
       "      <td>Restaurants, Soup, Chinese, Caribbean</td>\n",
       "      <td>Pickering</td>\n",
       "      <td>{'Monday': '11:0-21:30', 'Tuesday': '11:0-21:3...</td>\n",
       "      <td>43.841844</td>\n",
       "      <td>-79.083881</td>\n",
       "      <td>Asia Hut</td>\n",
       "      <td>L1V 1C1</td>\n",
       "      <td>4</td>\n",
       "      <td>4.5</td>\n",
       "      <td>ON</td>\n",
       "    </tr>\n",
       "    <tr>\n",
       "      <td>192596</td>\n",
       "      <td>948 Boulevard de Maisonneuve Est</td>\n",
       "      <td>{'GoodForKids': 'True', 'WiFi': 'u'no'', 'Rest...</td>\n",
       "      <td>KnafX7T6qSAmSrLhd709vA</td>\n",
       "      <td>Vietnamese, Soup, Restaurants</td>\n",
       "      <td>Montréal</td>\n",
       "      <td>{'Monday': '12:0-21:0', 'Tuesday': '12:0-21:0'...</td>\n",
       "      <td>45.517430</td>\n",
       "      <td>-73.558873</td>\n",
       "      <td>Pho Maisonneuve</td>\n",
       "      <td>H2L 1Z1</td>\n",
       "      <td>25</td>\n",
       "      <td>4.0</td>\n",
       "      <td>QC</td>\n",
       "    </tr>\n",
       "    <tr>\n",
       "      <td>192603</td>\n",
       "      <td>1911 N Cleveland-Massillon Rd</td>\n",
       "      <td>{'OutdoorSeating': 'True', 'BikeParking': 'Tru...</td>\n",
       "      <td>p1eUTUB_5hf1enoKYBV3DA</td>\n",
       "      <td>Restaurants, Italian</td>\n",
       "      <td>Bath</td>\n",
       "      <td>{'Monday': '0:0-0:0', 'Tuesday': '17:0-22:0', ...</td>\n",
       "      <td>41.187547</td>\n",
       "      <td>-81.635791</td>\n",
       "      <td>Ken Stewart's Tre Belle</td>\n",
       "      <td>44210</td>\n",
       "      <td>39</td>\n",
       "      <td>3.5</td>\n",
       "      <td>OH</td>\n",
       "    </tr>\n",
       "  </tbody>\n",
       "</table>\n",
       "<p>40477 rows × 13 columns</p>\n",
       "</div>"
      ],
      "text/plain": [
       "                                                  address  \\\n",
       "1                                    30 Eglinton Avenue W   \n",
       "2                               10110 Johnston Rd, Ste 15   \n",
       "11                                2450 E Indian School Rd   \n",
       "13                                        5981 Andrews Rd   \n",
       "23      Center Core - Food Court, Fl 3, Pittsburgh Int...   \n",
       "...                                                   ...   \n",
       "192587                                   578 Yonge Street   \n",
       "192589                                     3863 Medina Rd   \n",
       "192595                                   1450 Kingston Rd   \n",
       "192596                   948 Boulevard de Maisonneuve Est   \n",
       "192603                      1911 N Cleveland-Massillon Rd   \n",
       "\n",
       "                                               attributes  \\\n",
       "1       {'RestaurantsReservations': 'True', 'GoodForMe...   \n",
       "2       {'GoodForKids': 'True', 'NoiseLevel': 'u'avera...   \n",
       "11      {'RestaurantsTakeOut': 'True', 'BusinessParkin...   \n",
       "13      {'RestaurantsPriceRange2': '2', 'BusinessAccep...   \n",
       "23      {'RestaurantsTakeOut': 'True', 'BusinessParkin...   \n",
       "...                                                   ...   \n",
       "192587  {'RestaurantsPriceRange2': '2', 'RestaurantsGo...   \n",
       "192589  {'RestaurantsPriceRange2': '2', 'HasTV': 'Fals...   \n",
       "192595  {'BikeParking': 'True', 'RestaurantsAttire': '...   \n",
       "192596  {'GoodForKids': 'True', 'WiFi': 'u'no'', 'Rest...   \n",
       "192603  {'OutdoorSeating': 'True', 'BikeParking': 'Tru...   \n",
       "\n",
       "                   business_id  \\\n",
       "1       QXAEGFB4oINsVuTFxEYKFQ   \n",
       "2       gnKjwL_1w79qoiV3IC_xQQ   \n",
       "11      1Dfx3zM-rW4n-31KeC8sJg   \n",
       "13      fweCYi8FmbJXHCqLnwuk8w   \n",
       "23      1RHY4K3BD22FK7Cfftn8Mg   \n",
       "...                        ...   \n",
       "192587  oS0CnUbyv0GUoD3L8_3UPQ   \n",
       "192589  ghovD5ZTGDQ5Q2U4ERddWw   \n",
       "192595  h3QErqS3OZgLJ5Tb6-sLyQ   \n",
       "192596  KnafX7T6qSAmSrLhd709vA   \n",
       "192603  p1eUTUB_5hf1enoKYBV3DA   \n",
       "\n",
       "                                               categories                city  \\\n",
       "1       Specialty Food, Restaurants, Dim Sum, Imported...         Mississauga   \n",
       "2                       Sushi Bars, Restaurants, Japanese           Charlotte   \n",
       "11      Restaurants, Breakfast & Brunch, Mexican, Taco...             Phoenix   \n",
       "13             Italian, Restaurants, Pizza, Chicken Wings  Mentor-on-the-Lake   \n",
       "23      Sandwiches, Salad, Restaurants, Burgers, Comfo...          Pittsburgh   \n",
       "...                                                   ...                 ...   \n",
       "192587                                  Restaurants, Thai             Toronto   \n",
       "192589    Burgers, Restaurants, Fast Food, American (New)            Fairlawn   \n",
       "192595              Restaurants, Soup, Chinese, Caribbean           Pickering   \n",
       "192596                      Vietnamese, Soup, Restaurants            Montréal   \n",
       "192603                               Restaurants, Italian                Bath   \n",
       "\n",
       "                                                    hours   latitude  \\\n",
       "1       {'Monday': '9:0-0:0', 'Tuesday': '9:0-0:0', 'W...  43.605499   \n",
       "2       {'Monday': '17:30-21:30', 'Wednesday': '17:30-...  35.092564   \n",
       "11      {'Monday': '7:0-0:0', 'Tuesday': '7:0-0:0', 'W...  33.495194   \n",
       "13      {'Monday': '10:0-0:0', 'Tuesday': '10:0-0:0', ...  41.708520   \n",
       "23                                                    NaN  40.496177   \n",
       "...                                                   ...        ...   \n",
       "192587  {'Monday': '0:0-0:0', 'Tuesday': '11:0-23:0', ...  43.665120   \n",
       "192589  {'Monday': '11:0-22:0', 'Tuesday': '11:0-22:0'...  41.136561   \n",
       "192595  {'Monday': '11:0-21:30', 'Tuesday': '11:0-21:3...  43.841844   \n",
       "192596  {'Monday': '12:0-21:0', 'Tuesday': '12:0-21:0'...  45.517430   \n",
       "192603  {'Monday': '0:0-0:0', 'Tuesday': '17:0-22:0', ...  41.187547   \n",
       "\n",
       "         longitude                         name postal_code  review_count  \\\n",
       "1       -79.652289   Emerald Chinese Restaurant     L5R 3E7           128   \n",
       "2       -80.859132  Musashi Japanese Restaurant       28210           170   \n",
       "11     -112.028588                    Taco Bell       85016            18   \n",
       "13      -81.359556                Marco's Pizza       44060            16   \n",
       "23      -80.246011               Marathon Diner       15231            35   \n",
       "...            ...                          ...         ...           ...   \n",
       "192587  -79.384809                 Thai Fantasy     M4Y 1Z3           113   \n",
       "192589  -81.639712                    Five Guys       44333            22   \n",
       "192595  -79.083881                     Asia Hut     L1V 1C1             4   \n",
       "192596  -73.558873              Pho Maisonneuve     H2L 1Z1            25   \n",
       "192603  -81.635791      Ken Stewart's Tre Belle       44210            39   \n",
       "\n",
       "        stars state  \n",
       "1         2.5    ON  \n",
       "2         4.0    NC  \n",
       "11        3.0    AZ  \n",
       "13        4.0    OH  \n",
       "23        4.0    PA  \n",
       "...       ...   ...  \n",
       "192587    4.0    ON  \n",
       "192589    4.0    OH  \n",
       "192595    4.5    ON  \n",
       "192596    4.0    QC  \n",
       "192603    3.5    OH  \n",
       "\n",
       "[40477 rows x 13 columns]"
      ]
     },
     "execution_count": 79,
     "metadata": {},
     "output_type": "execute_result"
    }
   ],
   "source": [
    "# we begin to constract the needed DataFrame\n",
    "rest_family_df = restaurant_df.copy()\n",
    "rest_family_df"
   ]
  },
  {
   "cell_type": "code",
   "execution_count": 80,
   "metadata": {},
   "outputs": [
    {
     "data": {
      "text/plain": [
       "pandas.core.frame.DataFrame"
      ]
     },
     "execution_count": 80,
     "metadata": {},
     "output_type": "execute_result"
    }
   ],
   "source": [
    "type(rest_family_df)"
   ]
  },
  {
   "cell_type": "code",
   "execution_count": 81,
   "metadata": {},
   "outputs": [
    {
     "name": "stdout",
     "output_type": "stream",
     "text": [
      "<class 'pandas.core.frame.DataFrame'>\n",
      "Int64Index: 40185 entries, 1 to 192603\n",
      "Data columns (total 13 columns):\n",
      "address         40185 non-null object\n",
      "attributes      40185 non-null object\n",
      "business_id     40185 non-null object\n",
      "categories      40185 non-null object\n",
      "city            40185 non-null object\n",
      "hours           33237 non-null object\n",
      "latitude        40185 non-null float64\n",
      "longitude       40185 non-null float64\n",
      "name            40185 non-null object\n",
      "postal_code     40151 non-null object\n",
      "review_count    40185 non-null int64\n",
      "stars           40185 non-null float64\n",
      "state           40185 non-null object\n",
      "dtypes: float64(3), int64(1), object(9)\n",
      "memory usage: 4.3+ MB\n"
     ]
    }
   ],
   "source": [
    "#no null in \"address\"\n",
    "rest_family_df.dropna(subset = ['address']).info()"
   ]
  },
  {
   "cell_type": "code",
   "execution_count": 82,
   "metadata": {},
   "outputs": [],
   "source": [
    "# legend : the yang chinese family with 2 children, likes sport, and healthy food \n",
    "# list of demands (basing on the column \"attributes\"): all has to be True, satisfied\n",
    "\n",
    "kwargs = {'attributes':[\"OutdoorSeating\",\"HasTV\",\"BikeParking\", \"GoodForKids\",\"RestaurantsReservations\",\"RestaurantsTakeOut\" ] \\\n",
    "}"
   ]
  },
  {
   "cell_type": "code",
   "execution_count": 83,
   "metadata": {
    "scrolled": false
   },
   "outputs": [
    {
     "data": {
      "text/html": [
       "<div>\n",
       "<style scoped>\n",
       "    .dataframe tbody tr th:only-of-type {\n",
       "        vertical-align: middle;\n",
       "    }\n",
       "\n",
       "    .dataframe tbody tr th {\n",
       "        vertical-align: top;\n",
       "    }\n",
       "\n",
       "    .dataframe thead th {\n",
       "        text-align: right;\n",
       "    }\n",
       "</style>\n",
       "<table border=\"1\" class=\"dataframe\">\n",
       "  <thead>\n",
       "    <tr style=\"text-align: right;\">\n",
       "      <th></th>\n",
       "      <th>address</th>\n",
       "      <th>attributes</th>\n",
       "      <th>business_id</th>\n",
       "      <th>categories</th>\n",
       "      <th>city</th>\n",
       "      <th>hours</th>\n",
       "      <th>latitude</th>\n",
       "      <th>longitude</th>\n",
       "      <th>name</th>\n",
       "      <th>postal_code</th>\n",
       "      <th>review_count</th>\n",
       "      <th>stars</th>\n",
       "      <th>state</th>\n",
       "    </tr>\n",
       "  </thead>\n",
       "  <tbody>\n",
       "    <tr>\n",
       "      <td>116</td>\n",
       "      <td>165 East Liberty Street</td>\n",
       "      <td>{'RestaurantsTakeOut': 'True', 'RestaurantsTab...</td>\n",
       "      <td>gyFYZV4b_9TxG1ulQNi0Ig</td>\n",
       "      <td>Middle Eastern, Restaurants, Salad, Breakfast ...</td>\n",
       "      <td>Toronto</td>\n",
       "      <td>{'Monday': '10:0-22:0', 'Tuesday': '10:0-22:0'...</td>\n",
       "      <td>43.638442</td>\n",
       "      <td>-79.417237</td>\n",
       "      <td>Paramount Fine Foods</td>\n",
       "      <td>M6K 3K4</td>\n",
       "      <td>40</td>\n",
       "      <td>2.0</td>\n",
       "      <td>ON</td>\n",
       "    </tr>\n",
       "    <tr>\n",
       "      <td>141</td>\n",
       "      <td>7712 Sossamon Ln NW, Unit 140</td>\n",
       "      <td>{'NoiseLevel': ''quiet'', 'RestaurantsReservat...</td>\n",
       "      <td>L0aSDVHNXCl6sY4cfZQ-5Q</td>\n",
       "      <td>Restaurants, Thai</td>\n",
       "      <td>Concord</td>\n",
       "      <td>{'Monday': '11:0-21:0', 'Tuesday': '11:0-21:0'...</td>\n",
       "      <td>35.364974</td>\n",
       "      <td>-80.708763</td>\n",
       "      <td>Mai Thai II</td>\n",
       "      <td>28027</td>\n",
       "      <td>108</td>\n",
       "      <td>4.0</td>\n",
       "      <td>NC</td>\n",
       "    </tr>\n",
       "    <tr>\n",
       "      <td>157</td>\n",
       "      <td>1514 East Blvd</td>\n",
       "      <td>{'RestaurantsReservations': 'True', 'BusinessA...</td>\n",
       "      <td>U3kygJOTlTQFlfaZS7sQjA</td>\n",
       "      <td>Caterers, Hot Dogs, Restaurants, Vegetarian, A...</td>\n",
       "      <td>Charlotte</td>\n",
       "      <td>{'Monday': '11:0-21:0', 'Tuesday': '11:0-21:0'...</td>\n",
       "      <td>35.199798</td>\n",
       "      <td>-80.842295</td>\n",
       "      <td>JJ's Red Hots - Dilworth</td>\n",
       "      <td>28203</td>\n",
       "      <td>380</td>\n",
       "      <td>4.0</td>\n",
       "      <td>NC</td>\n",
       "    </tr>\n",
       "    <tr>\n",
       "      <td>229</td>\n",
       "      <td>380 Tower Hill Road, Units 23-24-25</td>\n",
       "      <td>{'Alcohol': 'u'full_bar'', 'NoiseLevel': ''ave...</td>\n",
       "      <td>VA232TY-ThR8L5wjuuLZVg</td>\n",
       "      <td>Mediterranean, Restaurants, Middle Eastern, Tu...</td>\n",
       "      <td>Richmond Hill</td>\n",
       "      <td>{'Monday': '11:0-22:0', 'Tuesday': '11:0-22:0'...</td>\n",
       "      <td>43.913723</td>\n",
       "      <td>-79.473839</td>\n",
       "      <td>Sofra Mediterranean Cuisine</td>\n",
       "      <td>L4E 0T8</td>\n",
       "      <td>33</td>\n",
       "      <td>3.0</td>\n",
       "      <td>ON</td>\n",
       "    </tr>\n",
       "    <tr>\n",
       "      <td>260</td>\n",
       "      <td>1012 17 Avenue SW</td>\n",
       "      <td>{'HasTV': 'True', 'RestaurantsTakeOut': 'True'...</td>\n",
       "      <td>tWjfgVtTD5n01Cq9dFWGsA</td>\n",
       "      <td>Italian, Canadian (New), Food, American (New),...</td>\n",
       "      <td>Calgary</td>\n",
       "      <td>{'Monday': '0:0-0:0', 'Tuesday': '11:0-22:0', ...</td>\n",
       "      <td>51.038087</td>\n",
       "      <td>-114.084968</td>\n",
       "      <td>Cibo</td>\n",
       "      <td>T2T 0A5</td>\n",
       "      <td>185</td>\n",
       "      <td>3.5</td>\n",
       "      <td>AB</td>\n",
       "    </tr>\n",
       "  </tbody>\n",
       "</table>\n",
       "</div>"
      ],
      "text/plain": [
       "                                 address  \\\n",
       "116              165 East Liberty Street   \n",
       "141        7712 Sossamon Ln NW, Unit 140   \n",
       "157                       1514 East Blvd   \n",
       "229  380 Tower Hill Road, Units 23-24-25   \n",
       "260                    1012 17 Avenue SW   \n",
       "\n",
       "                                            attributes  \\\n",
       "116  {'RestaurantsTakeOut': 'True', 'RestaurantsTab...   \n",
       "141  {'NoiseLevel': ''quiet'', 'RestaurantsReservat...   \n",
       "157  {'RestaurantsReservations': 'True', 'BusinessA...   \n",
       "229  {'Alcohol': 'u'full_bar'', 'NoiseLevel': ''ave...   \n",
       "260  {'HasTV': 'True', 'RestaurantsTakeOut': 'True'...   \n",
       "\n",
       "                business_id  \\\n",
       "116  gyFYZV4b_9TxG1ulQNi0Ig   \n",
       "141  L0aSDVHNXCl6sY4cfZQ-5Q   \n",
       "157  U3kygJOTlTQFlfaZS7sQjA   \n",
       "229  VA232TY-ThR8L5wjuuLZVg   \n",
       "260  tWjfgVtTD5n01Cq9dFWGsA   \n",
       "\n",
       "                                            categories           city  \\\n",
       "116  Middle Eastern, Restaurants, Salad, Breakfast ...        Toronto   \n",
       "141                                  Restaurants, Thai        Concord   \n",
       "157  Caterers, Hot Dogs, Restaurants, Vegetarian, A...      Charlotte   \n",
       "229  Mediterranean, Restaurants, Middle Eastern, Tu...  Richmond Hill   \n",
       "260  Italian, Canadian (New), Food, American (New),...        Calgary   \n",
       "\n",
       "                                                 hours   latitude   longitude  \\\n",
       "116  {'Monday': '10:0-22:0', 'Tuesday': '10:0-22:0'...  43.638442  -79.417237   \n",
       "141  {'Monday': '11:0-21:0', 'Tuesday': '11:0-21:0'...  35.364974  -80.708763   \n",
       "157  {'Monday': '11:0-21:0', 'Tuesday': '11:0-21:0'...  35.199798  -80.842295   \n",
       "229  {'Monday': '11:0-22:0', 'Tuesday': '11:0-22:0'...  43.913723  -79.473839   \n",
       "260  {'Monday': '0:0-0:0', 'Tuesday': '11:0-22:0', ...  51.038087 -114.084968   \n",
       "\n",
       "                            name postal_code  review_count  stars state  \n",
       "116         Paramount Fine Foods     M6K 3K4            40    2.0    ON  \n",
       "141                  Mai Thai II       28027           108    4.0    NC  \n",
       "157     JJ's Red Hots - Dilworth       28203           380    4.0    NC  \n",
       "229  Sofra Mediterranean Cuisine     L4E 0T8            33    3.0    ON  \n",
       "260                         Cibo     T2T 0A5           185    3.5    AB  "
      ]
     },
     "execution_count": 83,
     "metadata": {},
     "output_type": "execute_result"
    }
   ],
   "source": [
    "def condition(x):\n",
    "    def label_true(label):\n",
    "        return (x.get(label) == \"True\") \n",
    "    cond1 = label_true(\"OutdoorSeating\") & label_true(\"HasTV\") & label_true(\"BikeParking\") \n",
    "    cond2 = label_true(\"GoodForKids\") & label_true(\"RestaurantsReservations\") & label_true(\"RestaurantsTakeOut\")\n",
    "    return cond1  & cond2\n",
    "\n",
    "#rest_family_df= rest_family_df[rest_family_df[\"attributes\"].map(lambda x: condition(x))]\n",
    "\n",
    "rest_family_df= rest_family_df[rest_family_df[\"attributes\"].map(condition)]\n",
    "rest_family_df.head()"
   ]
  },
  {
   "cell_type": "code",
   "execution_count": 84,
   "metadata": {},
   "outputs": [
    {
     "data": {
      "text/plain": [
       "Toronto       214\n",
       "Phoenix       150\n",
       "Las Vegas     137\n",
       "Scottsdale    134\n",
       "Charlotte     133\n",
       "Montréal       89\n",
       "Calgary        74\n",
       "Mesa           62\n",
       "Pittsburgh     61\n",
       "Chandler       59\n",
       "Name: city, dtype: int64"
      ]
     },
     "execution_count": 84,
     "metadata": {},
     "output_type": "execute_result"
    }
   ],
   "source": [
    "#city_family_df = rest_family_df.loc[0:, [\"city\", \"state\"]]\n",
    "rest_family_df[\"city\"].value_counts().head(10)\n"
   ]
  },
  {
   "cell_type": "code",
   "execution_count": 85,
   "metadata": {},
   "outputs": [
    {
     "data": {
      "text/plain": [
       "str"
      ]
     },
     "execution_count": 85,
     "metadata": {},
     "output_type": "execute_result"
    }
   ],
   "source": [
    "type(rest_family_df['categories'].iloc[0])"
   ]
  },
  {
   "cell_type": "code",
   "execution_count": 86,
   "metadata": {},
   "outputs": [
    {
     "data": {
      "text/plain": [
       "'Middle Eastern, Restaurants, Salad, Breakfast & Brunch'"
      ]
     },
     "execution_count": 86,
     "metadata": {},
     "output_type": "execute_result"
    }
   ],
   "source": [
    "rest_family_df['categories'].iloc[0]"
   ]
  },
  {
   "cell_type": "code",
   "execution_count": 87,
   "metadata": {},
   "outputs": [],
   "source": [
    "rest_family_df1 = rest_family_df.copy() "
   ]
  },
  {
   "cell_type": "code",
   "execution_count": 88,
   "metadata": {},
   "outputs": [
    {
     "data": {
      "text/html": [
       "<div>\n",
       "<style scoped>\n",
       "    .dataframe tbody tr th:only-of-type {\n",
       "        vertical-align: middle;\n",
       "    }\n",
       "\n",
       "    .dataframe tbody tr th {\n",
       "        vertical-align: top;\n",
       "    }\n",
       "\n",
       "    .dataframe thead th {\n",
       "        text-align: right;\n",
       "    }\n",
       "</style>\n",
       "<table border=\"1\" class=\"dataframe\">\n",
       "  <thead>\n",
       "    <tr style=\"text-align: right;\">\n",
       "      <th></th>\n",
       "      <th>city</th>\n",
       "      <th>state</th>\n",
       "      <th>address</th>\n",
       "    </tr>\n",
       "  </thead>\n",
       "  <tbody>\n",
       "    <tr>\n",
       "      <td>116</td>\n",
       "      <td>Toronto</td>\n",
       "      <td>ON</td>\n",
       "      <td>165 East Liberty Street</td>\n",
       "    </tr>\n",
       "    <tr>\n",
       "      <td>141</td>\n",
       "      <td>Concord</td>\n",
       "      <td>NC</td>\n",
       "      <td>7712 Sossamon Ln NW, Unit 140</td>\n",
       "    </tr>\n",
       "    <tr>\n",
       "      <td>157</td>\n",
       "      <td>Charlotte</td>\n",
       "      <td>NC</td>\n",
       "      <td>1514 East Blvd</td>\n",
       "    </tr>\n",
       "    <tr>\n",
       "      <td>229</td>\n",
       "      <td>Richmond Hill</td>\n",
       "      <td>ON</td>\n",
       "      <td>380 Tower Hill Road, Units 23-24-25</td>\n",
       "    </tr>\n",
       "    <tr>\n",
       "      <td>260</td>\n",
       "      <td>Calgary</td>\n",
       "      <td>AB</td>\n",
       "      <td>1012 17 Avenue SW</td>\n",
       "    </tr>\n",
       "  </tbody>\n",
       "</table>\n",
       "</div>"
      ],
      "text/plain": [
       "              city state                              address\n",
       "116        Toronto    ON              165 East Liberty Street\n",
       "141        Concord    NC        7712 Sossamon Ln NW, Unit 140\n",
       "157      Charlotte    NC                       1514 East Blvd\n",
       "229  Richmond Hill    ON  380 Tower Hill Road, Units 23-24-25\n",
       "260        Calgary    AB                    1012 17 Avenue SW"
      ]
     },
     "execution_count": 88,
     "metadata": {},
     "output_type": "execute_result"
    }
   ],
   "source": [
    "rest_family_df1.loc[:,['city', 'state', 'address']].head()\n"
   ]
  },
  {
   "cell_type": "code",
   "execution_count": 89,
   "metadata": {},
   "outputs": [
    {
     "name": "stdout",
     "output_type": "stream",
     "text": [
      "<class 'pandas.core.frame.DataFrame'>\n",
      "Int64Index: 2118 entries, 116 to 192487\n",
      "Data columns (total 13 columns):\n",
      "address         2114 non-null object\n",
      "attributes      2118 non-null object\n",
      "business_id     2118 non-null object\n",
      "categories      2118 non-null object\n",
      "city            2118 non-null object\n",
      "hours           2017 non-null object\n",
      "latitude        2118 non-null float64\n",
      "longitude       2118 non-null float64\n",
      "name            2118 non-null object\n",
      "postal_code     2118 non-null object\n",
      "review_count    2118 non-null int64\n",
      "stars           2118 non-null float64\n",
      "state           2118 non-null object\n",
      "dtypes: float64(3), int64(1), object(9)\n",
      "memory usage: 231.7+ KB\n"
     ]
    }
   ],
   "source": [
    "\n",
    "rest_family_df1.info()"
   ]
  },
  {
   "cell_type": "code",
   "execution_count": 90,
   "metadata": {},
   "outputs": [],
   "source": [
    "#the most suitable city is Toronto (if count by quantity of suitable restaurants)\n"
   ]
  },
  {
   "cell_type": "code",
   "execution_count": 91,
   "metadata": {},
   "outputs": [],
   "source": [
    "# the not done task yet : to choose most suitable city basing on the \"density\" of suitable restaurants:\n",
    "# Suitable restaurants/city population , in this case we choose the most suitable \"environment\"\n",
    "\n"
   ]
  },
  {
   "cell_type": "code",
   "execution_count": 92,
   "metadata": {},
   "outputs": [],
   "source": [
    "#it also happens that there are several cities with the same name like Phoenix in US, \n",
    "#but it is the only city in the list (seems so) So, our analysis is incomplete and will be improoved in the next notebooks \n"
   ]
  }
 ],
 "metadata": {
  "kernelspec": {
   "display_name": "Python 3",
   "language": "python",
   "name": "python3"
  },
  "language_info": {
   "codemirror_mode": {
    "name": "ipython",
    "version": 3
   },
   "file_extension": ".py",
   "mimetype": "text/x-python",
   "name": "python",
   "nbconvert_exporter": "python",
   "pygments_lexer": "ipython3",
   "version": "3.7.3"
  }
 },
 "nbformat": 4,
 "nbformat_minor": 4
}
